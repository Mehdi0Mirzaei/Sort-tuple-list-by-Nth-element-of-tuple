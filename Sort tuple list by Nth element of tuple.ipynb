{
 "cells": [
  {
   "cell_type": "code",
   "execution_count": 1,
   "id": "4ae302c1",
   "metadata": {},
   "outputs": [
    {
     "name": "stdout",
     "output_type": "stream",
     "text": [
      "The original list is : [(4, 5, 1), (6, 1, 5), (7, 4, 2), (6, 2, 4)]\n",
      "List after sorting tuple by Nth index sort : [(6, 1, 5), (6, 2, 4), (7, 4, 2), (4, 5, 1)]\n"
     ]
    }
   ],
   "source": [
    "# initializing list\n",
    "test_list = [(4, 5, 1), (6, 1, 5), (7, 4, 2), (6, 2, 4)]\n",
    " \n",
    "# printing original list\n",
    "print(\"The original list is : \" + str(test_list))\n",
    " \n",
    "# index according to which sort to perform\n",
    "N = 1\n",
    " \n",
    "# Sort tuple list by Nth element of tuple\n",
    "# using sort() + lambda\n",
    "test_list.sort(key = lambda x: x[N])\n",
    " \n",
    "# printing result \n",
    "print(\"List after sorting tuple by Nth index sort : \" + str(test_list))"
   ]
  },
  {
   "cell_type": "code",
   "execution_count": 2,
   "id": "dc0d6b48",
   "metadata": {},
   "outputs": [
    {
     "name": "stdout",
     "output_type": "stream",
     "text": [
      "The original list is : [(4, 5, 1), (6, 1, 5), (7, 4, 2), (6, 2, 4)]\n",
      "List after sorting tuple by Nth index sort : [(6, 1, 5), (6, 2, 4), (7, 4, 2), (4, 5, 1)]\n"
     ]
    }
   ],
   "source": [
    "def sort_by_nth_element(tup):\n",
    "    return tup[N]\n",
    " \n",
    "# initializing list\n",
    "test_list = [(4, 5, 1), (6, 1, 5), (7, 4, 2), (6, 2, 4)]\n",
    " \n",
    "# printing original list\n",
    "print(\"The original list is : \" + str(test_list))\n",
    " \n",
    "# index according to which sort to perform\n",
    "N = 1\n",
    " \n",
    "# Sort tuple list by Nth element of tuple using sorted() and custom function\n",
    "sorted_list = sorted(test_list, key = sort_by_nth_element)\n",
    " \n",
    "# printing result\n",
    "print(\"List after sorting tuple by Nth index sort : \" + str(sorted_list))"
   ]
  },
  {
   "cell_type": "code",
   "execution_count": 3,
   "id": "9c601407",
   "metadata": {},
   "outputs": [
    {
     "name": "stdout",
     "output_type": "stream",
     "text": [
      "The original list: [(4, 5, 1), (6, 1, 5), (7, 4, 2), (6, 2, 4)]\n",
      "Sorted list: [(4, 5, 1), (7, 4, 2), (6, 2, 4), (6, 1, 5)]\n"
     ]
    }
   ],
   "source": [
    "\n",
    "\n",
    "test_list = [(4, 5, 1), (6, 1, 5), (7, 4, 2), (6, 2, 4)]\n",
    "N=1\n",
    "print(\"The original list:\",test_list )\n",
    "# initialize the flag variable to indicate if any swap has been made\n",
    "flag = True\n",
    " \n",
    "# while loop runs until no more swaps are made\n",
    "while flag:\n",
    "    # reset the flag variable\n",
    "    flag = False\n",
    "    # outer for loop iterates through the elements in the list\n",
    "    for i in range(len(test_list ) - 1):\n",
    "        # inner for loop starts from next element of outer for loop and compare with outer for loop element\n",
    "        for j in range(i+1, len(test_list )):\n",
    "            # check if second element in the tuple of the first element is less than the second element in the tuple of the next element\n",
    "            if test_list [i][N] < test_list [j][N]:\n",
    "                # swap the elements\n",
    "                test_list [i], test_list [j] = test_list [j], test_list[i]\n",
    "                # set the flag variable to indicate that a swap has been made\n",
    "                flag = True\n",
    "# print the sorted list\n",
    "print(\"Sorted list:\", test_list )"
   ]
  },
  {
   "cell_type": "code",
   "execution_count": 4,
   "id": "02a94afb",
   "metadata": {},
   "outputs": [
    {
     "name": "stdout",
     "output_type": "stream",
     "text": [
      "The original list is : [(4, 5, 1), (6, 1, 5), (7, 4, 2), (6, 2, 4)]\n",
      "List after sorting tuple by Nth index sort : [(6, 1, 5), (6, 2, 4), (7, 4, 2), (4, 5, 1)]\n"
     ]
    }
   ],
   "source": [
    "import heapq\n",
    " \n",
    "# initializing list\n",
    "test_list = [(4, 5, 1), (6, 1, 5), (7, 4, 2), (6, 2, 4)]\n",
    " \n",
    "# printing original list\n",
    "print(\"The original list is : \" + str(test_list))\n",
    " \n",
    "# index according to which sort to perform\n",
    "N = 1\n",
    " \n",
    "# Sort tuple list by Nth element of tuple\n",
    "sorted_list = heapq.nsmallest(len(test_list), test_list, key=lambda x: x[N])\n",
    " \n",
    "# printing result\n",
    "print(\"List after sorting tuple by Nth index sort : \" + str(sorted_list))\n"
   ]
  },
  {
   "cell_type": "code",
   "execution_count": 5,
   "id": "fb2f62d2",
   "metadata": {},
   "outputs": [
    {
     "name": "stdout",
     "output_type": "stream",
     "text": [
      "The original list: [(4, 5, 1), (6, 1, 5), (7, 4, 2), (6, 2, 4)]\n",
      "List after sorting tuple by Nth index sort: [(6, 1, 5), (6, 2, 4), (7, 4, 2), (4, 5, 1)]\n"
     ]
    }
   ],
   "source": [
    "def sort_tuple_by_nth_index(test_list, N):\n",
    "    # base case: if the length of the list is 1 or less, it is already sorted\n",
    "    if len(test_list) <= 1:\n",
    "        return test_list\n",
    "     \n",
    "    # recursive case:\n",
    "    # divide the list into two sublists, one containing elements less than or equal to the Nth element of the first element\n",
    "    # and the other containing elements greater than the Nth element of the first element\n",
    "    pivot = test_list[0][N]\n",
    "    less_than_or_equal = [t for t in test_list[1:] if t[N] <= pivot]\n",
    "    greater_than = [t for t in test_list[1:] if t[N] > pivot]\n",
    "     \n",
    "    # recursively sort the two sublists\n",
    "    sorted_less_than_or_equal = sort_tuple_by_nth_index(less_than_or_equal, N)\n",
    "    sorted_greater_than = sort_tuple_by_nth_index(greater_than, N)\n",
    "     \n",
    "    # return the sorted concatenation of the two sublists\n",
    "    return sorted_less_than_or_equal + [test_list[0]] + sorted_greater_than\n",
    "test_list = [(4, 5, 1), (6, 1, 5), (7, 4, 2), (6, 2, 4)]\n",
    "N = 1\n",
    "print(\"The original list:\", test_list)\n",
    "sorted_list = sort_tuple_by_nth_index(test_list, N)\n",
    "print(\"List after sorting tuple by Nth index sort:\", sorted_list)"
   ]
  },
  {
   "cell_type": "code",
   "execution_count": null,
   "id": "f5389c6c",
   "metadata": {},
   "outputs": [],
   "source": []
  }
 ],
 "metadata": {
  "kernelspec": {
   "display_name": "Python 3 (ipykernel)",
   "language": "python",
   "name": "python3"
  },
  "language_info": {
   "codemirror_mode": {
    "name": "ipython",
    "version": 3
   },
   "file_extension": ".py",
   "mimetype": "text/x-python",
   "name": "python",
   "nbconvert_exporter": "python",
   "pygments_lexer": "ipython3",
   "version": "3.9.13"
  }
 },
 "nbformat": 4,
 "nbformat_minor": 5
}
